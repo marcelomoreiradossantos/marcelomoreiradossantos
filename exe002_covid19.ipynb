{
  "nbformat": 4,
  "nbformat_minor": 0,
  "metadata": {
    "colab": {
      "name": "exe002_covid19.ipynb",
      "provenance": [],
      "authorship_tag": "ABX9TyPgebtk4FpoSdMEbCNw0G/D",
      "include_colab_link": true
    },
    "kernelspec": {
      "name": "python3",
      "display_name": "Python 3"
    },
    "language_info": {
      "name": "python"
    }
  },
  "cells": [
    {
      "cell_type": "markdown",
      "metadata": {
        "id": "view-in-github",
        "colab_type": "text"
      },
      "source": [
        "<a href=\"https://colab.research.google.com/github/marcelomoreiradossantos/marcelomoreiradossantos/blob/circleci-project-setup/exe002_covid19.ipynb\" target=\"_parent\"><img src=\"https://colab.research.google.com/assets/colab-badge.svg\" alt=\"Open In Colab\"/></a>"
      ]
    },
    {
      "cell_type": "markdown",
      "metadata": {
        "id": "skVYhgeOILrV"
      },
      "source": [
        "#Importação do pacote pandas\n"
      ]
    },
    {
      "cell_type": "code",
      "metadata": {
        "id": "fY0Gn_4NEnM6"
      },
      "source": [
        "import pandas as pd"
      ],
      "execution_count": null,
      "outputs": []
    },
    {
      "cell_type": "markdown",
      "metadata": {
        "id": "qn8cV191IZYP"
      },
      "source": [
        "#Acesso aos dados e geração do Frame"
      ]
    },
    {
      "cell_type": "code",
      "metadata": {
        "id": "BecQeRP8Ex54"
      },
      "source": [
        "url = 'https://api.covid19api.com/live/country/brazil/status/confirmed/date/2021-03-01T00:00:00Z'\n",
        "dados = pd.read_json(url)"
      ],
      "execution_count": null,
      "outputs": []
    },
    {
      "cell_type": "markdown",
      "metadata": {
        "id": "YTJ3kYhNIpLQ"
      },
      "source": [
        "#Excluindo os campos desnecessário"
      ]
    },
    {
      "cell_type": "code",
      "metadata": {
        "id": "CKtHF4r0gqJ1"
      },
      "source": [
        "dados.drop('ID', axis = 1, inplace=True)\n",
        "dados.drop('City', axis = 1, inplace=True)\n",
        "dados.drop('CityCode', axis = 1, inplace=True)\n",
        "dados.drop('Lat', axis = 1, inplace=True)\n",
        "dados.drop('Lon', axis = 1, inplace=True)\n",
        "dados.drop('Date', axis = 1, inplace=True)"
      ],
      "execution_count": null,
      "outputs": []
    },
    {
      "cell_type": "markdown",
      "metadata": {
        "id": "g6M8jiysIxR7"
      },
      "source": [
        "#Visualização dos dados e campos necessários"
      ]
    },
    {
      "cell_type": "code",
      "metadata": {
        "colab": {
          "base_uri": "https://localhost:8080/",
          "height": 204
        },
        "id": "e1fFQTVNhKoL",
        "outputId": "ba997b78-6190-450c-decd-4b4d2fa47340"
      },
      "source": [
        "dados.head()"
      ],
      "execution_count": null,
      "outputs": [
        {
          "output_type": "execute_result",
          "data": {
            "text/html": [
              "<div>\n",
              "<style scoped>\n",
              "    .dataframe tbody tr th:only-of-type {\n",
              "        vertical-align: middle;\n",
              "    }\n",
              "\n",
              "    .dataframe tbody tr th {\n",
              "        vertical-align: top;\n",
              "    }\n",
              "\n",
              "    .dataframe thead th {\n",
              "        text-align: right;\n",
              "    }\n",
              "</style>\n",
              "<table border=\"1\" class=\"dataframe\">\n",
              "  <thead>\n",
              "    <tr style=\"text-align: right;\">\n",
              "      <th></th>\n",
              "      <th>Country</th>\n",
              "      <th>CountryCode</th>\n",
              "      <th>Province</th>\n",
              "      <th>Confirmed</th>\n",
              "      <th>Deaths</th>\n",
              "      <th>Recovered</th>\n",
              "      <th>Active</th>\n",
              "    </tr>\n",
              "  </thead>\n",
              "  <tbody>\n",
              "    <tr>\n",
              "      <th>0</th>\n",
              "      <td>Brazil</td>\n",
              "      <td>BR</td>\n",
              "      <td>Piaui</td>\n",
              "      <td>174008</td>\n",
              "      <td>3352</td>\n",
              "      <td>169970</td>\n",
              "      <td>686</td>\n",
              "    </tr>\n",
              "    <tr>\n",
              "      <th>1</th>\n",
              "      <td>Brazil</td>\n",
              "      <td>BR</td>\n",
              "      <td>Rio de Janeiro</td>\n",
              "      <td>583795</td>\n",
              "      <td>33093</td>\n",
              "      <td>546695</td>\n",
              "      <td>4007</td>\n",
              "    </tr>\n",
              "    <tr>\n",
              "      <th>2</th>\n",
              "      <td>Brazil</td>\n",
              "      <td>BR</td>\n",
              "      <td>Pernambuco</td>\n",
              "      <td>300104</td>\n",
              "      <td>11007</td>\n",
              "      <td>257881</td>\n",
              "      <td>31216</td>\n",
              "    </tr>\n",
              "    <tr>\n",
              "      <th>3</th>\n",
              "      <td>Brazil</td>\n",
              "      <td>BR</td>\n",
              "      <td>Para</td>\n",
              "      <td>365411</td>\n",
              "      <td>8643</td>\n",
              "      <td>342801</td>\n",
              "      <td>13967</td>\n",
              "    </tr>\n",
              "    <tr>\n",
              "      <th>4</th>\n",
              "      <td>Brazil</td>\n",
              "      <td>BR</td>\n",
              "      <td>Roraima</td>\n",
              "      <td>82126</td>\n",
              "      <td>1100</td>\n",
              "      <td>76102</td>\n",
              "      <td>4924</td>\n",
              "    </tr>\n",
              "  </tbody>\n",
              "</table>\n",
              "</div>"
            ],
            "text/plain": [
              "  Country CountryCode        Province  Confirmed  Deaths  Recovered  Active\n",
              "0  Brazil          BR           Piaui     174008    3352     169970     686\n",
              "1  Brazil          BR  Rio de Janeiro     583795   33093     546695    4007\n",
              "2  Brazil          BR      Pernambuco     300104   11007     257881   31216\n",
              "3  Brazil          BR            Para     365411    8643     342801   13967\n",
              "4  Brazil          BR         Roraima      82126    1100      76102    4924"
            ]
          },
          "metadata": {
            "tags": []
          },
          "execution_count": 76
        }
      ]
    }
  ]
}