{
  "nbformat": 4,
  "nbformat_minor": 0,
  "metadata": {
    "colab": {
      "name": "exe001_covid19.ipynb",
      "provenance": [],
      "toc_visible": true,
      "authorship_tag": "ABX9TyPDujoTEU4HhKB4AbbmydQb",
      "include_colab_link": true
    },
    "kernelspec": {
      "name": "python3",
      "display_name": "Python 3"
    },
    "language_info": {
      "name": "python"
    }
  },
  "cells": [
    {
      "cell_type": "markdown",
      "metadata": {
        "id": "view-in-github",
        "colab_type": "text"
      },
      "source": [
        "<a href=\"https://colab.research.google.com/github/marcelomoreiradossantos/marcelomoreiradossantos/blob/circleci-project-setup/exe001_covid19.ipynb\" target=\"_parent\"><img src=\"https://colab.research.google.com/assets/colab-badge.svg\" alt=\"Open In Colab\"/></a>"
      ]
    },
    {
      "cell_type": "markdown",
      "metadata": {
        "id": "sUcXCsiMJgym"
      },
      "source": [
        "#Importação do pacote Pandas"
      ]
    },
    {
      "cell_type": "code",
      "metadata": {
        "id": "KmABZ3nPifoE"
      },
      "source": [
        "import pandas as pd"
      ],
      "execution_count": null,
      "outputs": []
    },
    {
      "cell_type": "markdown",
      "metadata": {
        "id": "HTC91q3WJn-i"
      },
      "source": [
        "#Acesso aos dados e criação do DataFrame"
      ]
    },
    {
      "cell_type": "code",
      "metadata": {
        "id": "tJxYHJbT4dEo"
      },
      "source": [
        "url = 'https://api.covid19api.com/live/country/brazil/status/confirmed/date/2021-03-01T00:00:00Z'\n",
        "dados = pd.read_json(url)"
      ],
      "execution_count": null,
      "outputs": []
    },
    {
      "cell_type": "markdown",
      "metadata": {
        "id": "i2wak8t7J1hI"
      },
      "source": [
        "#Seleção das colunas e renomeando as mesma"
      ]
    },
    {
      "cell_type": "code",
      "metadata": {
        "id": "QQBvyCE_4e8u"
      },
      "source": [
        "dados.columns.values\n",
        "covidselecionado = dados.filter(items=['Country','CountryCode','Province','Confirmed', 'Deaths', 'Recovered', 'Active','Date'])\n",
        "lista = covidselecionado.rename(columns={'Country':'Pais', 'CountryCode':'Codigo do pais', 'Province':'Estado','Confirmed':'Casos confirmados', 'Deaths':'Quantidade de mortes', 'Recovered':'Quantidade de recuperados', \n",
        "                                 'Active':'Quantidade de casos ativos', 'Date':'Data de referencia'})"
      ],
      "execution_count": null,
      "outputs": []
    },
    {
      "cell_type": "markdown",
      "metadata": {
        "id": "VCKBhxjYKE26"
      },
      "source": [
        "#Export dos dados em formato .CSV"
      ]
    },
    {
      "cell_type": "code",
      "metadata": {
        "id": "_kU6a4RZ4h5z"
      },
      "source": [
        "lista.to_csv('casos_covid19.csv', sep='|', index=False)"
      ],
      "execution_count": null,
      "outputs": []
    }
  ]
}